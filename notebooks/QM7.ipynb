{
 "cells": [
  {
   "cell_type": "markdown",
   "metadata": {},
   "source": [
    "# QM7 Dataset  \n",
    "[reference examples](https://github.com/deepchem/deepchem/tree/master/examples/qm7)"
   ]
  },
  {
   "cell_type": "code",
   "execution_count": null,
   "metadata": {},
   "outputs": [],
   "source": [
    "from IPython.core.display import display, HTML\n",
    "display(HTML(\"<style>.container { width:100% !important; }</style>\"))"
   ]
  },
  {
   "cell_type": "code",
   "execution_count": null,
   "metadata": {},
   "outputs": [],
   "source": [
    "import numpy as np\n",
    "import tensorflow as tf\n",
    "import sklearn \n",
    "import deepchem as dc"
   ]
  },
  {
   "cell_type": "code",
   "execution_count": null,
   "metadata": {},
   "outputs": [],
   "source": [
    "import pathlib\n",
    "model_dir = pathlib.Path('../models')"
   ]
  },
  {
   "cell_type": "markdown",
   "metadata": {},
   "source": [
    "**Random Forest**  \n",
    "[reference example](https://github.com/deepchem/deepchem/blob/master/examples/)"
   ]
  },
  {
   "cell_type": "code",
   "execution_count": null,
   "metadata": {},
   "outputs": [],
   "source": [
    "qm7_tasks, qm7_datasets, transformers = dc.molnet.load_qm7_from_mat(\n",
    "    featurizer='Raw', split='stratified')\n",
    "train_dataset, valid_dataset, test_dataset = qm7_datasets"
   ]
  },
  {
   "cell_type": "code",
   "execution_count": null,
   "metadata": {},
   "outputs": [],
   "source": [
    "from sklearn.ensemble import RandomForestRegressor\n",
    "\n",
    "def rf_model_builder(model_params, model_dir):\n",
    "    rf_model = RandomForestRegressor(model_dir, **model_params)\n",
    "    return dc.models.SklearnModel(rf_model, model_dir)"
   ]
  },
  {
   "cell_type": "code",
   "execution_count": null,
   "metadata": {},
   "outputs": [],
   "source": [
    "metrix = [\n",
    "] # TODO\n",
    "\n",
    "params = {\n",
    "} # TODO\n",
    "\n",
    "model = rf_model_builder(params, model_dir)\n",
    "\n",
    "print(\"training RF model\")\n",
    "model.fit(train_dataset)\n",
    "\n",
    "print(\"evaluating RF model on {train,valid,test} sets\")\n",
    "train_scores = model.evaluate(train_dataset, metric, transformers)\n",
    "print(\"train scores: [kcal/mol]\")\n",
    "print(train_scores)\n",
    "\n",
    "valid_scores = model.evaluate(valid_dataset, metric, transformers)\n",
    "print(\"valid scores: [kcal/mol]\")\n",
    "print(valid_scores)\n",
    "\n",
    "test_scores = model.evaluate(test_dataset, metric, transformers)\n",
    "print(\"test scores: [kcal/mol]\")\n",
    "print(test_scores)"
   ]
  },
  {
   "cell_type": "markdown",
   "metadata": {},
   "source": [
    "**Multitask Network**  \n",
    "[reference example](https://github.com/deepchem/deepchem/blob/master/examples/qm7)"
   ]
  },
  {
   "cell_type": "code",
   "execution_count": null,
   "metadata": {},
   "outputs": [],
   "source": [
    "qm7_tasks, qm7_datasets, transformers = dc.molnet.load_qm7_from_mat(\n",
    "    featurizer='Raw', split='stratified')\n",
    "train_dataset, valid_dataset, test_dataset = qm7_datasets"
   ]
  },
  {
   "cell_type": "code",
   "execution_count": null,
   "metadata": {},
   "outputs": [],
   "source": [
    "from dc.models import MultiTaskRegressor\n",
    "\n",
    "def mtr_model_builder(model_params, model_dir):\n",
    "    mtr_model = MultiTaskRegressor(model_dir, **model_params)\n",
    "    return mn_model"
   ]
  },
  {
   "cell_type": "code",
   "execution_count": null,
   "metadata": {},
   "outputs": [],
   "source": [
    "metrics = [\n",
    "    dc.metrics.Metric(dc.metrics.mean_absolute_error, mode=\"regression\"),\n",
    "    dc.metrics.Metric(dc.metrics.pearson_r2_score, mode=\"regression\")\n",
    "]\n",
    "\n",
    "params = {\n",
    "    \"n_tasks\": len(qm7_tasks)\n",
    "}\n",
    "\n",
    "model = mtr_model_builder(params, model_dir)\n",
    "\n",
    "print(\"training MTR model\")\n",
    "model.fit(train_dataset, nb_epoch=50)\n",
    "\n",
    "print(\"evaluating MTR model on {train,valid,test} sets\")\n",
    "train_scores = model.evaluate(train_dataset, metric, transformers)\n",
    "print(\"train scores: [kcal/mol]\")\n",
    "print(train_scores)\n",
    "\n",
    "valid_scores = model.evaluate(valid_dataset, metric, transformers)\n",
    "print(\"valid scores: [kcal/mol]\")\n",
    "print(valid_scores)\n",
    "\n",
    "test_scores = model.evaluate(test_dataset, metric, transformers)\n",
    "print(\"test scores: [kcal/mol]\")\n",
    "print(test_scores)"
   ]
  },
  {
   "cell_type": "markdown",
   "metadata": {},
   "source": [
    "**Kernel Ridge Regression**  \n",
    "[reference example](https://github.com/deepchem/deepchem/blob/master/examples/qm7)"
   ]
  },
  {
   "cell_type": "code",
   "execution_count": null,
   "metadata": {},
   "outputs": [],
   "source": [
    "qm7_tasks, qm7_datasets, transformers = dc.molnet.load_qm7_from_mat(\n",
    "    featurizer='Raw', split='stratified')\n",
    "train_dataset, valid_dataset, test_dataset = qm7_datasets"
   ]
  },
  {
   "cell_type": "code",
   "execution_count": null,
   "metadata": {},
   "outputs": [],
   "source": [
    "from sklearn.kernel_ridge import KernelRidge\n",
    "\n",
    "def krr_model_builder(model_params, model_dir):\n",
    "    krr_model = KernelRidge(model_dir, **model_params)\n",
    "    sklearn_model_builder = lambda model_dir: dc.models.SklearnModel(krr_model, model_dir)\n",
    "    return dc.models.SingletaskToMultitask(qm7_tasks, \n",
    "                                           sklearn_model_builder, \n",
    "                                           model_dir)"
   ]
  },
  {
   "cell_type": "code",
   "execution_count": null,
   "metadata": {},
   "outputs": [],
   "source": [
    "metric = [\n",
    "    dc.metrics.Metric(dc.metrics.mean_absolute_error, mode=\"regression\")\n",
    "]\n",
    "\n",
    "params = {\n",
    "    \"kernel\": \"rbf\",\n",
    "    \"alpha\": 5e-4,\n",
    "    \"gamma\": 0.008\n",
    "}\n",
    "\n",
    "print(\"training KRR model\")\n",
    "model = krr_model_builder(params, model_dir)\n",
    "model.fit(train_dataset)\n",
    "\n",
    "print(\"evaluating KRR model on {train,valid,test} sets\")\n",
    "train_evaluator = dc.utils.evaluate.Evaluator(model, train_dataset, transformers)\n",
    "train_scores = train_evaluator.compute_model_performance(metric)\n",
    "print(\"train scores: [kcal/mol]\")\n",
    "print(train_scores)\n",
    "\n",
    "valid_evaluator = dc.utils.evaluate.Evaluator(model, valid_dataset, transformers)\n",
    "valid_scores = valid_evaluator.compute_model_performance(metric)\n",
    "print(\"valid scores: [kcal/mol]\")\n",
    "print(valid_scores)\n",
    "\n",
    "test_evaluator = dc.utils.evaluate.Evaluator(model, test_dataset, transformers)\n",
    "test_scores = test_evaluator.compute_model_performance(metric)\n",
    "print(\"test scores: [kcal/mol]\")\n",
    "print(test_scores)"
   ]
  },
  {
   "cell_type": "markdown",
   "metadata": {},
   "source": [
    "**Graph Convolution**  \n",
    "[reference example](https://github.com/deepchem/deepchem/blob/master/examples/qm7/qm7_tensorgraph_GraphConv.py)"
   ]
  },
  {
   "cell_type": "code",
   "execution_count": null,
   "metadata": {},
   "outputs": [],
   "source": [
    "qm7_tasks, qm7_datasets, transformers = dc.molnet.load_qm7_from_mat(\n",
    "    featurizer='GraphConv')\n",
    "train_dataset, valid_dataset, test_dataset = qm7_datasets"
   ]
  },
  {
   "cell_type": "code",
   "execution_count": null,
   "metadata": {},
   "outputs": [],
   "source": [
    "from dc.models.tensorgraph.models.graph_models import GraphConvTensorGraph\n",
    "\n",
    "def gc_model_builder(model_params, model_dir):\n",
    "    return GraphConvTensorGraph(mode=\"regression\", # tensorboard=True, \n",
    "                                model_dir=model_dir, \n",
    "                                **model_params)"
   ]
  },
  {
   "cell_type": "code",
   "execution_count": null,
   "metadata": {},
   "outputs": [],
   "source": [
    "metric = [\n",
    "    dc.metrics.Metric(dc.metrics.mean_absolute_error, mode=\"regression\"),\n",
    "    dc.metrics.Metric(dc.metrics.pearson_r2_score, mode=\"regression\")\n",
    "]\n",
    "\n",
    "params = {\n",
    "    \"n_tasks\": len(qm7_tasks),\n",
    "    \"batch_size\": 64,\n",
    "    \"learning_rate\": 0.001\n",
    "}\n",
    "\n",
    "model = gc_model_builder(params, model_dir)\n",
    "\n",
    "print(\"training GC model\")\n",
    "model.fit(train_dataset, nb_epoch=50)\n",
    "\n",
    "print(\"evaluating GC model on {train,valid,test} sets\")\n",
    "train_scores = model.evaluate(train_dataset, metric, transformers)\n",
    "print(\"train scores: [kcal/mol]\")\n",
    "print(train_scores)\n",
    "\n",
    "valid_scores = model.evaluate(valid_dataset, metric, transformers)\n",
    "print(\"valid scores: [kcal/mol]\")\n",
    "print(valid_scores)\n",
    "\n",
    "test_scores = model.evaluate(test_dataset, metric, transformers)\n",
    "print(\"test scores: [kcal/mol]\")\n",
    "print(test_scores)"
   ]
  },
  {
   "cell_type": "code",
   "execution_count": null,
   "metadata": {},
   "outputs": [],
   "source": [
    "# import subprocess\n",
    "# subprocess.run(['tensorboard', '--logdir=model.model_dir'])"
   ]
  },
  {
   "cell_type": "markdown",
   "metadata": {},
   "source": [
    "**Multitask Network** _(Coulomb Matrix Featurizer)_  \n",
    "[reference example](https://github.com/deepchem/deepchem/blob/master/examples/)"
   ]
  },
  {
   "cell_type": "code",
   "execution_count": null,
   "metadata": {},
   "outputs": [],
   "source": [
    "qm7_tasks, qm7_datasets, transformers = dc.molnet.load_qm7_from_mat(\n",
    "    featurizer='CoulombMatrix', split='stratified')\n",
    "train_dataset, valid_dataset, test_dataset = qm7_datasets"
   ]
  },
  {
   "cell_type": "code",
   "execution_count": null,
   "metadata": {},
   "outputs": [],
   "source": [
    "from dc.models import MultiTaskRegressor\n",
    "\n",
    "def mtr_model_builder(model_params, model_dir):\n",
    "    mtr_model = MultiTaskRegressor(model_dir, **model_params)\n",
    "    return mn_model"
   ]
  },
  {
   "cell_type": "code",
   "execution_count": null,
   "metadata": {},
   "outputs": [],
   "source": [
    "metrics = [\n",
    "    dc.metrics.Metric(dc.metrics.mean_absolute_error, mode=\"regression\"),\n",
    "    dc.metrics.Metric(dc.metrics.pearson_r2_score, mode=\"regression\")\n",
    "]\n",
    "\n",
    "params = {\n",
    "    \"n_tasks\": len(qm7_tasks) # TODO\n",
    "}\n",
    "\n",
    "model = mtr_model_builder(params, model_dir)\n",
    "\n",
    "print(\"training MTR model\")\n",
    "model.fit(train_dataset, nb_epoch=50)\n",
    "\n",
    "print(\"evaluating MTR model on {train,valid,test} sets\")\n",
    "train_scores = model.evaluate(train_dataset, metric, transformers)\n",
    "print(\"train scores: [kcal/mol]\")\n",
    "print(train_scores)\n",
    "\n",
    "valid_scores = model.evaluate(valid_dataset, metric, transformers)\n",
    "print(\"valid scores: [kcal/mol]\")\n",
    "print(valid_scores)\n",
    "\n",
    "test_scores = model.evaluate(test_dataset, metric, transformers)\n",
    "print(\"test scores: [kcal/mol]\")\n",
    "print(test_scores)"
   ]
  },
  {
   "cell_type": "markdown",
   "metadata": {},
   "source": [
    "**Kernel Ridge Regression** _(Coulomb Matrix Featurizer)_  \n",
    "[reference example](https://github.com/deepchem/deepchem/blob/master/examples/qm7/qm7_sklearn.py)"
   ]
  },
  {
   "cell_type": "code",
   "execution_count": null,
   "metadata": {},
   "outputs": [],
   "source": [
    "qm7_tasks, qm7_datasets, transformers = dc.molnet.load_qm7_from_mat(\n",
    "    featurizer='CoulombMatrix', split='stratified')\n",
    "train_dataset, valid_dataset, test_dataset = qm7_datasets"
   ]
  },
  {
   "cell_type": "code",
   "execution_count": null,
   "metadata": {},
   "outputs": [],
   "source": [
    "from sklearn.kernel_ridge import KernelRidge\n",
    "\n",
    "def krr_model_builder(model_params, model_dir):\n",
    "    krr_model = KernelRidge(model_dir, **model_params)\n",
    "    sklearn_model_builder = lambda model_dir: dc.models.SklearnModel(krr_model, model_dir)\n",
    "    return dc.models.SingletaskToMultitask(qm7_tasks, \n",
    "                                           sklearn_model_builder,\n",
    "                                           model_dir)"
   ]
  },
  {
   "cell_type": "code",
   "execution_count": null,
   "metadata": {},
   "outputs": [],
   "source": [
    "metric = [\n",
    "    dc.metrics.Metric(dc.metrics.mean_absolute_error, mode=\"regression\")\n",
    "]\n",
    "\n",
    "params = {\n",
    "    \"kernel\": \"rbf\",\n",
    "    \"alpha\": 5e-4,\n",
    "    \"gamma\": 0.008\n",
    "}\n",
    "\n",
    "model = krr_model_builder(params, model_dir)\n",
    "\n",
    "print(\"training KRR model\")\n",
    "model.fit(train_dataset)\n",
    "\n",
    "print(\"evaluating KRR model on {train,valid,test} sets\")\n",
    "train_evaluator = dc.utils.evaluate.Evaluator(model, train_dataset, transformers)\n",
    "train_scores = train_evaluator.compute_model_performance(metric)\n",
    "print(\"train scores: [kcal/mol]\")\n",
    "print(train_scores)\n",
    "\n",
    "valid_evaluator = dc.utils.evaluate.Evaluator(model, valid_dataset, transformers)\n",
    "valid_scores = valid_evaluator.compute_model_performance(metric)\n",
    "print(\"valid scores: [kcal/mol]\")\n",
    "print(valid_scores)\n",
    "\n",
    "test_evaluator = dc.utils.evaluate.Evaluator(model, test_dataset, transformers)\n",
    "test_scores = test_evaluator.compute_model_performance(metric)\n",
    "print(\"test scores: [kcal/mol]\")\n",
    "print(test_scores)"
   ]
  },
  {
   "cell_type": "markdown",
   "metadata": {},
   "source": [
    "**Deep Tensor Neural Network**  \n",
    "[reference example](https://github.com/deepchem/deepchem/blob/master/examples/qm7/qm7_tensorgraph_DTNN.py)"
   ]
  },
  {
   "cell_type": "code",
   "execution_count": null,
   "metadata": {},
   "outputs": [],
   "source": [
    "qm7_tasks, qm7_datasets, transformers = dc.molnet.load_qm7_from_mat(\n",
    "    featurizer='Raw', split='stratified')\n",
    "train_dataset, valid_dataset, test_dataset = qm7_datasets"
   ]
  },
  {
   "cell_type": "code",
   "execution_count": null,
   "metadata": {},
   "outputs": [],
   "source": [
    "def dtnn_model_builder(model_params, model_dir):\n",
    "    return dc.models.DTNNModel(output_activation=False,\n",
    "                               use_queue=False,\n",
    "                               mode=\"regression\", \n",
    "                               model_dir=model_dir, \n",
    "                               **model_params)"
   ]
  },
  {
   "cell_type": "code",
   "execution_count": null,
   "metadata": {},
   "outputs": [],
   "source": [
    "from deepchem.models.tensorgraph.optimizers import ExponentialDecay\n",
    "\n",
    "metric = [\n",
    "    dc.metrics.Metric(dc.metrics.mean_absolute_error, mode=\"regression\"),\n",
    "    dc.metrics.Metric(dc.metric.pearson_r2_score, mode=\"regression\")\n",
    "]\n",
    "\n",
    "params = {\n",
    "    \"n_tasks\": len(qm7_tasks),\n",
    "    \"n_embedding\": 30,\n",
    "    \"n_hidden\": 15,\n",
    "    \"n_distance\": 51,\n",
    "    \"distance_min\": -1.0,\n",
    "    \"distance_max\": 9.2,\n",
    "    \"batch_size\": 50,\n",
    "    \"learning_rate\": ExponentialDecay(0.0001, 0.97, 5000)\n",
    "}\n",
    "\n",
    "model = dtnn_model_builder(params, model_dir)\n",
    "\n",
    "print(\"training dtnn model\")\n",
    "model.fit(train_dataset, nb_epoch=30)\n",
    "\n",
    "print(\"evaluating dtnn model on {train,valid,test} sets\")\n",
    "train_scores = model.evaluate(train_dataset, metric, transformers)\n",
    "print(\"train scores: [kcal/mol]\\n\" + str(train_scores))\n",
    "valid_scores = model.evaluate(valid_dataset, metric, transformers)\n",
    "print(\"valid scores [kcal/mol]\\n\" + str(valid_scores))\n",
    "test_scores = model.evaluate(test_dataset, metric, transformers)\n",
    "print(\"test scores [kcal/mol]\\n\" + str(test_scores))\n"
   ]
  },
  {
   "cell_type": "markdown",
   "metadata": {},
   "source": [
    "**ANI-1**  \n",
    "[reference example](https://github.com/deepchem/deepchem/blob/master/examples/qm7/qm7_ANI.py)"
   ]
  },
  {
   "cell_type": "code",
   "execution_count": null,
   "metadata": {},
   "outputs": [],
   "source": [
    "HARTREE_TO_KCAL_PER_MOL = 627.509\n",
    "\n",
    "qm7_tasks, qm7_datasets, transformers = dc.molnet.load_qm7_from_mat(\n",
    "    featurizer='BPSymmetryFunction', split='index', reload=False)\n",
    "\n",
    "# ... (see 'qm7_ANI.py) ..."
   ]
  },
  {
   "cell_type": "code",
   "execution_count": null,
   "metadata": {},
   "outputs": [],
   "source": [
    "# HARTREE_TO_KCAL_PER_MOL = 627.509\n",
    "\n",
    "# tasks, datasets, transformers = dc.molnet.load_qm7_from_mat(\n",
    "#     featurizer='BPSymmetryFunction', split='index', reload=False)\n",
    "# all_dataset = dc.data.DiskDataset.merge(datasets)\n",
    "# invalid_inds = []\n",
    "# X = all_dataset.X\n",
    "# for i in range(X.shape[0]):\n",
    "#   # Exclude all molecules having S\n",
    "#   if 16 in X[i, :, 0]:\n",
    "#     invalid_inds.append(i)\n",
    "# valid_inds = np.delete(np.arange(all_dataset.y.shape[0]), invalid_inds)\n",
    "# dataset = all_dataset.select(valid_inds)\n",
    "\n",
    "# splitter = dc.splits.RandomSplitter()\n",
    "# train, valid, test = splitter.train_valid_test_split(dataset)\n",
    "\n",
    "# y = dc.trans.undo_transforms(train.y, transformers) / HARTREE_TO_KCAL_PER_MOL\n",
    "# train = dc.data.DiskDataset.from_numpy(\n",
    "#     train.X, y, w=train.w, ids=train.ids, tasks=train.tasks)\n",
    "\n",
    "# y = dc.trans.undo_transforms(valid.y, transformers) / HARTREE_TO_KCAL_PER_MOL\n",
    "# valid = dc.data.DiskDataset.from_numpy(\n",
    "#     valid.X, y, w=valid.w, ids=valid.ids, tasks=valid.tasks)\n",
    "\n",
    "# y = dc.trans.undo_transforms(test.y, transformers) / HARTREE_TO_KCAL_PER_MOL\n",
    "# test = dc.data.DiskDataset.from_numpy(\n",
    "#     test.X, y, w=test.w, ids=test.ids, tasks=test.tasks)"
   ]
  },
  {
   "cell_type": "code",
   "execution_count": null,
   "metadata": {},
   "outputs": [],
   "source": [
    "def ani_model_builder(model_params, model_dir):\n",
    "    return dc.models.ANIRegression(exp_loss=False, \n",
    "                                   use_queue=False, \n",
    "                                   mode=\"regression\", \n",
    "                                   model_dir=model_dir, \n",
    "                                   **model_params)"
   ]
  },
  {
   "cell_type": "code",
   "execution_count": null,
   "metadata": {},
   "outputs": [],
   "source": [
    "metric = [\n",
    "    dc.metrics.Metric(dc.metrics.mean_absolute_error, mode=\"regression\"),\n",
    "    dc.metrics.Metric(dc.metrics.pearson_r2_score, mode=\"regression\")\n",
    "]\n",
    "\n",
    "params = {\n",
    "    \"n_tasks\": len(qm7_tasks),\n",
    "    \"max_atoms\": 23,\n",
    "    \"layer_structures\": [64, 64, 32],\n",
    "    \"atom_number_cases\": [1, 6, 7, 8],\n",
    "    \"batch_size\": 128,\n",
    "    \"learning_rate\": 1e-3\n",
    "}\n",
    "\n",
    "valid_best = 100.0\n",
    "\n",
    "# learning_rates = [1e-3, 1e-4, 1e-5, 3e-6, 1e-6, 3e-7, 1e-7, 3e-8, 1e-8, 3e-9, 1e-9]\n",
    "# for learning_rate in learning_rates:\n",
    "\n",
    "model = ani_model_builder(params, model_dir)\n",
    "model.fit(train_dataset, nb_epoch=10)\n",
    "local_ct = 0 # no idea what this is\n",
    "while local_ct < 100:\n",
    "    local_ct += 1\n",
    "    model.fit(train_dataset, nb_epoch=1)\n",
    "    \n",
    "    train_scores = model.evaluate(train_dataset, metric)\n",
    "    valid_scores = model.evaluate(valid_dataset, metric)\n",
    "    \n",
    "    print(\"train scores  [MAE(kcal/mol)]\")\n",
    "    print(train_scores['mean_absolute_error']) # * HARTREE_TO_KCAL_PER_MOL\n",
    "    \n",
    "    print(\"valid scores  [MAE(kcal/mol)]\")\n",
    "    print(valid_scores['mean_absolute_error']) # * HARTREE_TO_KCAL_PER_MOL\n",
    "    \n",
    "    if valid_scores['mean_absolute_error'] < valid_best:\n",
    "        local_ct = 0\n",
    "        valid_best = valid_scores['mean_absolute_error']\n",
    "        test_scores = model.evaluate(test_dataset, metric)\n",
    "        \n",
    "        print(\"test scores [MAE(kcal/mol)]\")\n",
    "        print(test_scores['mean_absolute_error']) # * HARTREE_TO_KCAL_PER_MOL"
   ]
  }
 ],
 "metadata": {
  "kernelspec": {
   "display_name": "Python 3",
   "language": "python",
   "name": "python3"
  },
  "language_info": {
   "codemirror_mode": {
    "name": "ipython",
    "version": 3
   },
   "file_extension": ".py",
   "mimetype": "text/x-python",
   "name": "python",
   "nbconvert_exporter": "python",
   "pygments_lexer": "ipython3",
   "version": "3.6.4"
  }
 },
 "nbformat": 4,
 "nbformat_minor": 2
}
