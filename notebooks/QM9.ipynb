{
 "cells": [
  {
   "cell_type": "markdown",
   "metadata": {},
   "source": [
    "# QM9 Dataset\n",
    "[reference examples](https://github.com/deepchem/deepchem/tree/master/examples/qm9)"
   ]
  },
  {
   "cell_type": "code",
   "execution_count": null,
   "metadata": {},
   "outputs": [],
   "source": [
    "from IPython.core.display import display, HTML\n",
    "display(HTML(\"<style>.container { width:100% !important; }</style>\"))"
   ]
  },
  {
   "cell_type": "code",
   "execution_count": null,
   "metadata": {},
   "outputs": [],
   "source": [
    "import numpy as np\n",
    "import tensorflow as tf\n",
    "import sklearn \n",
    "import deepchem as dc"
   ]
  },
  {
   "cell_type": "code",
   "execution_count": null,
   "metadata": {},
   "outputs": [],
   "source": [
    "np.random.seed(123)\n",
    "tf.set_random_seed(123)"
   ]
  },
  {
   "cell_type": "code",
   "execution_count": null,
   "metadata": {},
   "outputs": [],
   "source": [
    "import pathlib\n",
    "model_dir = pathlib.Path('../models/qm9')"
   ]
  },
  {
   "cell_type": "markdown",
   "metadata": {},
   "source": [
    "**Multitask Network**  "
   ]
  },
  {
   "cell_type": "code",
   "execution_count": null,
   "metadata": {},
   "outputs": [],
   "source": [
    "qm9_tasks, qm9_datasets, transformers = dc.molnet.load_qm8_from_mat(\n",
    "    featurizer='Raw', split='stratified')\n",
    "train_dataset, valid_dataset, test_dataset = qm9_datasets"
   ]
  },
  {
   "cell_type": "code",
   "execution_count": null,
   "metadata": {},
   "outputs": [],
   "source": [
    "from dc.models import MultiTaskRegressor\n",
    "\n",
    "def mtr_model_builder(model_params, model_dir):\n",
    "    mtr_model = MultiTaskRegressor(model_dir, **model_params)\n",
    "    return mtr_model"
   ]
  },
  {
   "cell_type": "code",
   "execution_count": null,
   "metadata": {},
   "outputs": [],
   "source": [
    "metric = [\n",
    "    dc.metrics.Metric(dc.metric.mean_absolute_error, mode=\"regression\"),\n",
    "    dc.metrics.Metric(dc.metric.pearson_r2_score, mode=\"regression\")\n",
    "]\n",
    "\n",
    "params = {\n",
    "    \"n_tasks\": len(qm9_tasks)\n",
    "}\n",
    "\n",
    "model = mtr_model_builder(params, model_dir)\n",
    "\n",
    "print(\"training MTR model\")\n",
    "model.fit(train_dataset, nb_epochs=50)\n",
    "\n",
    "print(\"evaluating MTR model on {train,valid,test} sets\")\n",
    "train_scores = model.evaluate(train_dataset, metric, transformers)\n",
    "print(\"train scores: [kcal/mol]\")\n",
    "print(train_scores)\n",
    "\n",
    "valid_scores = model.evaluate(valid_dataset, metric, transformers)\n",
    "print(\"valid scores: [kcal/mol]\")\n",
    "print(valid_scores)\n",
    "\n",
    "test_scores = model.evaluate(test_dataset, metric, transformers)\n",
    "print(\"test scores: [kcal/mol]\")\n",
    "print(test_scores)"
   ]
  },
  {
   "cell_type": "markdown",
   "metadata": {},
   "source": [
    "**Graph Convolution**  "
   ]
  },
  {
   "cell_type": "code",
   "execution_count": null,
   "metadata": {},
   "outputs": [],
   "source": [
    "qm9_tasks, qm9_datasets, transformers = dc.molnet.load_qm8_from_mat(\n",
    "    featurizer='GraphConv', split='stratified')\n",
    "train_dataset, valid_dataset, test_dataset = qm9_datasets"
   ]
  },
  {
   "cell_type": "code",
   "execution_count": null,
   "metadata": {},
   "outputs": [],
   "source": [
    "from dc.models.tensorgraph.models.graph_models import GraphConvTensorGraph\n",
    "\n",
    "def gc_model_builder(model_params, model_dir):\n",
    "    return GraphConvTensorGraph(mode=\"regression\", # tensorboard=True, \n",
    "                                model_dir=model_dir, \n",
    "                                **model_params)"
   ]
  },
  {
   "cell_type": "code",
   "execution_count": null,
   "metadata": {},
   "outputs": [],
   "source": [
    "metric = [\n",
    "    dc.metrics.Metric(dc.metrics.mean_absolute_error, mode=\"regression\"),\n",
    "    dc.metrics.Metric(dc.metrics.pearson_r2_score, mode=\"regression\")\n",
    "]\n",
    "\n",
    "params = {\n",
    "    \"n_tasks\": len(qm9_tasks),\n",
    "    \"batch_size\": 64,\n",
    "    \"learning_rate\": 0.001\n",
    "}\n",
    "\n",
    "model = gc_model_builder(params, model_dir)\n",
    "\n",
    "print(\"training GC model\")\n",
    "model.fit(train_dataset, nb_epochs=50)\n",
    "\n",
    "print(\"evaluating GC model on {train,valid,test} sets\")\n",
    "train_scores = model.evaluate(train_dataset, metric, transformers)\n",
    "print(\"train scores: [kcal/mol]\")\n",
    "print(train_scores)\n",
    "\n",
    "valid_scores = model.evaluate(valid_dataset, metric, transformers)\n",
    "print(\"valid scores: [kcal/mol]\")\n",
    "print(valid_scores)\n",
    "\n",
    "test_scores = model.evaluate(test_dataset, metric, transformers)\n",
    "print(\"test scores: [kcal/mol]\")\n",
    "print(test_scores)"
   ]
  },
  {
   "cell_type": "markdown",
   "metadata": {},
   "source": [
    "**Multitask Network** _(Coulomb Matrix Featurizer)_  \n",
    "[reference example](https://github.com/deepchem/deepchem/blob/master/examples/qm9/qm9_tf_models.py)"
   ]
  },
  {
   "cell_type": "code",
   "execution_count": null,
   "metadata": {},
   "outputs": [],
   "source": [
    "qm9_tasks, qm9_datasets, transformers = dc.molnet.load_qm8_from_mat(\n",
    "    featurizer='CoulombMatrix', split='stratified')\n",
    "train_dataset, valid_dataset, test_dataset = qm9_datasets"
   ]
  },
  {
   "cell_type": "code",
   "execution_count": null,
   "metadata": {},
   "outputs": [],
   "source": [
    "from dc.models import MultiTaskFitTransformRegressor\n",
    "\n",
    "def mtftr_model_builder(model_params, model_dir):\n",
    "    return MultitaskFitTransformRegressor(model_dir, **model_params)"
   ]
  },
  {
   "cell_type": "code",
   "execution_count": null,
   "metadata": {},
   "outputs": [],
   "source": [
    "from deepchem.models.tensorgraph.optimizers import ExponentialDecay\n",
    "\n",
    "fit_transformers = [\n",
    "    dc.trans.CoulombFitTransformer(train_dataset)\n",
    "]\n",
    "\n",
    "metric = [\n",
    "    dc.metrics.Metric(dc.metrics.mean_absolute_error, mode=\"regression\"),\n",
    "    dc.metrics.Metric(dc.metrics.pearson_r2_score, mode=\"regression\")\n",
    "]\n",
    "\n",
    "params = {\n",
    "    \"n_tasks\": len(qm9_tasks),\n",
    "    \"n_features\": [29, 29],\n",
    "    \"weight_init_stddevs\": [1.0/np.sqrt(400), 1.0/np.sqrt(100), 1.0/np.sqrt(100)],\n",
    "    \"bias_init_consts\": [0.0, 0.0, 0.0]\n",
    "    \"layer_sizes\": [400, 100, 100],\n",
    "    \"dropouts\": [0.01, 0.01, 0.01],\n",
    "    \"fit_transformers\": fit_transformers,\n",
    "    \"batch_size\": 32,\n",
    "    \"learning_rate\": ExponentialDecay(0.001, 0.95, 1000),\n",
    "    \"momentum\": 0.8,\n",
    "    \"n_evals\": 10\n",
    "}\n",
    "\n",
    "model = mtftr_model_builder(params, model_dir)\n",
    "\n",
    "print(\"training MTFTR model\")\n",
    "model.fit(train_dataset, nb_epochs=50)\n",
    "\n",
    "print(\"evaluating MTFTR model on {train,valid,test} sets\")\n",
    "train_scores = model.evaluate(train_dataset, metric, transformers)\n",
    "print(\"train scores:\")\n",
    "print(train_scores)\n",
    "\n",
    "valid_scores = model.evaluate(valid_dataset, metric, transformers)\n",
    "print(\"valid scores:\")\n",
    "print(valid_scores)\n",
    "\n",
    "test_scores = model.evaluate(test_dataset, metric, transformers)\n",
    "print(\"test scores:\")\n",
    "print(test_scores)"
   ]
  },
  {
   "cell_type": "markdown",
   "metadata": {},
   "source": [
    "**Deep Tensor Neural Network**  \n",
    "[reference example](https://github.com/deepchem/deepchem/blob/master/examples/qm9/qm9_DTNN.py)"
   ]
  },
  {
   "cell_type": "code",
   "execution_count": null,
   "metadata": {},
   "outputs": [],
   "source": [
    "qm9_tasks, qm9_datasets, transformers = dc.molnet.load_qm8_from_mat(\n",
    "    featurizer='CoulombMatrix', split='stratified')\n",
    "train_dataset, valid_dataset, test_dataset = qm9_datasets"
   ]
  },
  {
   "cell_type": "code",
   "execution_count": null,
   "metadata": {},
   "outputs": [],
   "source": [
    "def dtnn_model_builder(model_params, model_dir):\n",
    "    pass # TODO"
   ]
  },
  {
   "cell_type": "code",
   "execution_count": null,
   "metadata": {},
   "outputs": [],
   "source": [
    "metric = [\n",
    "] # TODO\n",
    "\n",
    "params = {\n",
    "} # TODO\n",
    "\n",
    "model = dtnn_model_builder(params, model_dir)\n",
    "\n",
    "print(\"training DTNN model\")\n",
    "model.fit(train_dataset, nb_epochs=50)\n",
    "\n",
    "print(\"evaluating DTNN model on {train,valid,test} sets\")\n",
    "train_scores = model.evaluate(train_dataset, metric, transformers)\n",
    "print(\"train scores:\")\n",
    "print(train_scores)\n",
    "\n",
    "valid_scores = model.evaluate(valid_dataset, metric, transformers)\n",
    "print(\"valid scores:\")\n",
    "print(valid_scores)\n",
    "\n",
    "test_scores = model.evaluate(test_dataset, metric, transformers)\n",
    "print(\"test scores:\")\n",
    "print(test_scores)"
   ]
  },
  {
   "cell_type": "markdown",
   "metadata": {},
   "source": [
    "**Message Passing Neural Network**  "
   ]
  },
  {
   "cell_type": "code",
   "execution_count": null,
   "metadata": {},
   "outputs": [],
   "source": [
    "qm9_tasks, qm9_datasets, transformers = dc.molnet.load_qm8_from_mat(\n",
    "    featurizer='MP', split='stratified')\n",
    "train_dataset, valid_dataset, test_dataset = qm9_datasets"
   ]
  },
  {
   "cell_type": "code",
   "execution_count": null,
   "metadata": {},
   "outputs": [],
   "source": [
    "from dc.models import MPNNModel\n",
    "\n",
    "def mpnn_model_builder(model_params, model_dir):\n",
    "    return MPNNModel(use_queue=False,\n",
    "                     mode=\"regression\",\n",
    "                     model_dir=model_dir,\n",
    "                     **model_params)"
   ]
  },
  {
   "cell_type": "code",
   "execution_count": null,
   "metadata": {},
   "outputs": [],
   "source": [
    "metric = [\n",
    "    dc.metrics.Metric(dc.metrics.pearson_r2_score, mode=\"regression\")\n",
    "]\n",
    "\n",
    "params = {\n",
    "    \"n_tasks\": len(qm9_tasks),\n",
    "    \"n_atom_feat\": 70,\n",
    "    \"n_pair_feat\": 8,\n",
    "    \"T\": 5,\n",
    "    \"M\": 10,\n",
    "    \"batch_size\": 32,\n",
    "    \"learning_reate\": 0.0001\n",
    "}\n",
    "\n",
    "model = mpnn_model_builder(params, model_dir)\n",
    "\n",
    "print(\"training MPNN model\")\n",
    "model.fit(train_dataset, nb_epochs=50)\n",
    "\n",
    "print(\"evaluating MPNN model on {train,valid,test} sets\")\n",
    "train_scores = model.evaluate(train_dataset, metric, transformers)\n",
    "print(\"train scores:\")\n",
    "print(train_scores)\n",
    "\n",
    "valid_scores = model.evaluate(valid_dataset, metric, transformers)\n",
    "print(\"valid scores:\")\n",
    "print(valid_scores)\n",
    "\n",
    "test_scores = model.evaluate(test_dataset, metric, transformers)\n",
    "print(\"test scores:\")\n",
    "print(test_scores)"
   ]
  }
 ],
 "metadata": {
  "kernelspec": {
   "display_name": "Python 3",
   "language": "python",
   "name": "python3"
  },
  "language_info": {
   "codemirror_mode": {
    "name": "ipython",
    "version": 3
   },
   "file_extension": ".py",
   "mimetype": "text/x-python",
   "name": "python",
   "nbconvert_exporter": "python",
   "pygments_lexer": "ipython3",
   "version": "3.6.4"
  }
 },
 "nbformat": 4,
 "nbformat_minor": 2
}
