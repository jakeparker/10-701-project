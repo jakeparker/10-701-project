{
 "cells": [
  {
   "cell_type": "markdown",
   "metadata": {},
   "source": [
    "# QM8 Dataset\n",
    "[reference examples](https://github.com/deepchem/deepchem/tree/master/examples/qm8)"
   ]
  },
  {
   "cell_type": "code",
   "execution_count": null,
   "metadata": {},
   "outputs": [],
   "source": [
    "from IPython.core.display import display, HTML\n",
    "display(HTML(\"<style>.container { width:100% !important; }</style>\"))"
   ]
  },
  {
   "cell_type": "code",
   "execution_count": null,
   "metadata": {},
   "outputs": [],
   "source": [
    "import numpy as np\n",
    "import tensorflow as tf\n",
    "import sklearn \n",
    "import deepchem as dc"
   ]
  },
  {
   "cell_type": "code",
   "execution_count": null,
   "metadata": {},
   "outputs": [],
   "source": [
    "np.random.seed(123)\n",
    "tf.set_random_seed(123)"
   ]
  },
  {
   "cell_type": "code",
   "execution_count": null,
   "metadata": {},
   "outputs": [],
   "source": [
    "import pathlib\n",
    "model_dir = pathlib.Path('../models/qm8')"
   ]
  },
  {
   "cell_type": "markdown",
   "metadata": {},
   "source": [
    "**Multitask Network**  "
   ]
  },
  {
   "cell_type": "code",
   "execution_count": null,
   "metadata": {},
   "outputs": [],
   "source": [
    "qm8_tasks, qm8_datasets, transformers = dc.molnet.load_qm8_from_mat(\n",
    "    featurizer='Raw', split='stratified')\n",
    "train_dataset, valid_dataset, test_dataset = qm8_datasets"
   ]
  },
  {
   "cell_type": "code",
   "execution_count": null,
   "metadata": {},
   "outputs": [],
   "source": [
    "from dc.models import MultiTaskRegressor\n",
    "\n",
    "def mtr_model_builder(model_params, model_dir):\n",
    "    mtr_model = MultiTaskRegressor(model_dir, **model_params)\n",
    "    return mtr_model"
   ]
  },
  {
   "cell_type": "code",
   "execution_count": null,
   "metadata": {},
   "outputs": [],
   "source": [
    "metric = [\n",
    "    dc.metrics.Metric(dc.metric.mean_absolute_error, mode=\"regression\"),\n",
    "    dc.metrics.Metric(dc.metric.pearson_r2_score, mode=\"regression\")\n",
    "]\n",
    "\n",
    "params = {\n",
    "    \"n_tasks\": len(qm8_tasks)\n",
    "}\n",
    "\n",
    "model = mtr_model_builder(params, model_dir)\n",
    "\n",
    "print(\"training MTR model\")\n",
    "model.fit(train_dataset, nb_epochs=50)\n",
    "\n",
    "print(\"evaluating MTR model on {train,valid,test} sets\")\n",
    "train_scores = model.evaluate(train_dataset, metric, transformers)\n",
    "print(\"train scores: [kcal/mol]\")\n",
    "print(train_scores)\n",
    "\n",
    "valid_scores = model.evaluate(valid_dataset, metric, transformers)\n",
    "print(\"valid scores: [kcal/mol]\")\n",
    "print(valid_scores)\n",
    "\n",
    "test_scores = model.evaluate(test_dataset, metric, transformers)\n",
    "print(\"test scores: [kcal/mol]\")\n",
    "print(test_scores)"
   ]
  },
  {
   "cell_type": "markdown",
   "metadata": {},
   "source": [
    "**Kernel Ridge Regression**  "
   ]
  },
  {
   "cell_type": "code",
   "execution_count": null,
   "metadata": {},
   "outputs": [],
   "source": [
    "qm8_tasks, qm8_datasets, transformers = dc.molnet.load_qm8_from_mat(\n",
    "    featurizer='Raw', split='stratified')\n",
    "train_dataset, valid_dataset, test_dataset = qm8_datasets"
   ]
  },
  {
   "cell_type": "code",
   "execution_count": null,
   "metadata": {},
   "outputs": [],
   "source": [
    "from sklearn.kernel_ridge import KernelRidge\n",
    "\n",
    "def krr_model_builder(model_params, model_dir):\n",
    "    krr_model = KernelRidge(model_dir, **model_params)\n",
    "    sklearn_model_builder = lambda model_dir: dc.models.SklearnModel(krr_model, model_dir)\n",
    "    return dc.models.SingletaskToMultitask(qm8_tasks, \n",
    "                                           sklearn_model_builder,\n",
    "                                           model_dir)"
   ]
  },
  {
   "cell_type": "code",
   "execution_count": null,
   "metadata": {},
   "outputs": [],
   "source": [
    "metric = [\n",
    "] dc.metrics.Metric(dc.metrics.mean_absolute_error, mode=\"regression\")\n",
    "\n",
    "params = {\n",
    "    \"kernel\": \"rbf\",\n",
    "    \"alpha\": 5e-4,\n",
    "    \"gamma\": 0.008\n",
    "}\n",
    "\n",
    "model = krr_model_builder(params, model_dir)\n",
    "\n",
    "print(\"training KRR model\")\n",
    "model.fit(train_dataset, nb_epochs=50)\n",
    "\n",
    "print(\"evaluating KRR model on {train,valid,test} sets\")\n",
    "train_evaluator = dc.utils.evaluate.Evaluator(model, train_dataset, transformers)\n",
    "train_scores = train_evaluator.compute_model_performance(metric)\n",
    "print(\"train scores:\")\n",
    "print(train_scores)\n",
    "\n",
    "valid_evaluator = dc.utils.evaluate.Evaluator(model, valid_dataset, transformers)\n",
    "valid_scores = valid_evaluator.compute_model_performance(metric)\n",
    "print(\"valid scores:\")\n",
    "print(valid_scores)\n",
    "\n",
    "test_evaluator = dc.utils.evaluate.Evaluator(model, test_dataset, transformers)\n",
    "test_scores = test_evaluator.compute_model_performance(metric)\n",
    "print(\"test scores:\")\n",
    "print(test_scores)"
   ]
  },
  {
   "cell_type": "markdown",
   "metadata": {},
   "source": [
    "**Graph Convolution**  "
   ]
  },
  {
   "cell_type": "code",
   "execution_count": null,
   "metadata": {},
   "outputs": [],
   "source": [
    "qm8_tasks, qm8_datasets, transformers = dc.molnet.load_qm8_from_mat(\n",
    "    featurizer='GraphConv', split='stratified')\n",
    "train_dataset, valid_dataset, test_dataset = qm8_datasets"
   ]
  },
  {
   "cell_type": "code",
   "execution_count": null,
   "metadata": {},
   "outputs": [],
   "source": [
    "from dc.models.tensorgraph.models.graph_models import GraphConvTensorGraph\n",
    "\n",
    "def gc_model_builder(model_params, model_dir):\n",
    "    return GraphConvTensorGraph(mode=\"regression\", # tensorboard=True, \n",
    "                                model_dir=model_dir, \n",
    "                                **model_params)"
   ]
  },
  {
   "cell_type": "code",
   "execution_count": null,
   "metadata": {},
   "outputs": [],
   "source": [
    "metric = [\n",
    "    dc.metrics.Metric(dc.metrics.mean_absolute_error, mode=\"regression\"),\n",
    "    dc.metrics.Metric(dc.metrics.pearson_r2_score, mode=\"regression\")\n",
    "]\n",
    "\n",
    "params = {\n",
    "    \"n_tasks\": len(qm8_tasks),\n",
    "    \"batch_size\": 64,\n",
    "    \"learning_rate\": 0.001\n",
    "}\n",
    "\n",
    "model = gc_model_builder(params, model_dir)\n",
    "\n",
    "print(\"training GC model\")\n",
    "model.fit(train_dataset, nb_epochs=50)\n",
    "\n",
    "print(\"evaluating GC model on {train,valid,test} sets\")\n",
    "train_scores = model.evaluate(train_dataset, metric, transformers)\n",
    "print(\"train scores: [kcal/mol]\")\n",
    "print(train_scores)\n",
    "\n",
    "valid_scores = model.evaluate(valid_dataset, metric, transformers)\n",
    "print(\"valid scores: [kcal/mol]\")\n",
    "print(valid_scores)\n",
    "\n",
    "test_scores = model.evaluate(test_dataset, metric, transformers)\n",
    "print(\"test scores: [kcal/mol]\")\n",
    "print(test_scores)"
   ]
  },
  {
   "cell_type": "markdown",
   "metadata": {},
   "source": [
    "**Multitask Network** _(Coulomb Matrix Featurizer)_  \n",
    "[reference example](https://github.com/deepchem/deepchem/blob/master/examples/qm8/qm8_tf_model.py)"
   ]
  },
  {
   "cell_type": "code",
   "execution_count": null,
   "metadata": {},
   "outputs": [],
   "source": [
    "qm8_tasks, qm8_datasets, transformers = dc.molnet.load_qm8_from_mat(\n",
    "    featurizer='CoulombMatrix', split='stratified')\n",
    "train_dataset, valid_dataset, test_dataset = qm8_datasets"
   ]
  },
  {
   "cell_type": "code",
   "execution_count": null,
   "metadata": {},
   "outputs": [],
   "source": [
    "from dc.models import MultiTaskFitTransformRegressor\n",
    "\n",
    "def mtftr_model_builder(model_params, model_dir):\n",
    "    mtftr_model = MultiTaskFitTransformRegressor(model_dir, **model_params)\n",
    "    return mtftr_model"
   ]
  },
  {
   "cell_type": "code",
   "execution_count": null,
   "metadata": {},
   "outputs": [],
   "source": [
    "from deepchem.models.tensorgraph.optimizers import ExponentialDecay\n",
    "\n",
    "fit_transformers = [\n",
    "    dc.trans.CoulombFitTransformer(train_dataset)\n",
    "]\n",
    "\n",
    "metric = [\n",
    "    dc.metrics.Metric(dc.metric.mean_absolute_error, mode=\"regression\"),\n",
    "    dc.metrics.Metric(dc.metric.pearson_r2_score, mode=\"regression\")\n",
    "]\n",
    "\n",
    "params = {\n",
    "    \"n_tasks\": len(qm8_tasks),\n",
    "    \"n_features\": [26, 26],\n",
    "    \"weight_init_stddevs\": [1.0/np.sqrt(400), 1.0/np.sqrt(100), 1.0/np.sqrt(100)],\n",
    "    \"bias_init_consts\": [0.0, 0.0, 0.0]\n",
    "    \"layer_sizes\": [400, 100, 100],\n",
    "    \"dropouts\": [0.01, 0.01, 0.01],\n",
    "    \"fit_transformers\": fit_transformers,\n",
    "    \"batch_size\": 32,\n",
    "    \"learning_rate\": ExponentialDecay(0.001, 0.95, 1000),\n",
    "    \"momentum\": 0.8,\n",
    "    \"n_evals\": 10\n",
    "}\n",
    "\n",
    "model = mtftr_model_builder(params, model_dir)\n",
    "\n",
    "print(\"training MTFTR model\")\n",
    "model.fit(train_dataset, nb_epochs=50)\n",
    "\n",
    "print(\"evaluating MTFTR model on {train,valid,test} sets\")\n",
    "train_scores = model.evaluate(train_dataset, metric, transformers)\n",
    "print(\"train scores: [kcal/mol]\")\n",
    "print(train_scores)\n",
    "\n",
    "valid_scores = model.evaluate(valid_dataset, metric, transformers)\n",
    "print(\"valid scores: [kcal / mold]\")\n",
    "print(valid_scores)\n",
    "\n",
    "test_scores = model.evaluate(test_dataset, metric, transformers)\n",
    "print(\"test scores: [kcal/mol]\")\n",
    "print(test_scores)"
   ]
  },
  {
   "cell_type": "markdown",
   "metadata": {},
   "source": [
    "**Kernel Ridge Regression** _(Coulomb Matrix Featurizer)_  "
   ]
  },
  {
   "cell_type": "code",
   "execution_count": null,
   "metadata": {},
   "outputs": [],
   "source": [
    "qm8_tasks, qm8_datasets, transformers = dc.molnet.load_qm8_from_mat(\n",
    "    featurizer='CoulombMatrix', split='stratified')\n",
    "train_dataset, valid_dataset, test_dataset = qm8_datasets"
   ]
  },
  {
   "cell_type": "code",
   "execution_count": null,
   "metadata": {},
   "outputs": [],
   "source": [
    "from sklearn.kernel_ridge import KernelRidge\n",
    "\n",
    "def krr_model_builder(model_params, model_dir):\n",
    "    krr_model = KernelRidge(model_dir, **model_params)\n",
    "    sklearn_model_builder = lambda model_dir: dc.models.SklearnModel(krr_model, model_dir)\n",
    "    return dc.models.SingletaskToMultitask(qm8_tasks, \n",
    "                                           sklearn_model_builder,\n",
    "                                           model_dir)"
   ]
  },
  {
   "cell_type": "code",
   "execution_count": null,
   "metadata": {},
   "outputs": [],
   "source": [
    "metric = [\n",
    "    dc.metrics.Metric(dc.metrics.mean_absolute_error, mode=\"regression\")\n",
    "]\n",
    "\n",
    "params = {\n",
    "    \"kernel\": \"rbf\",\n",
    "    \"alpha\": 5e-4,\n",
    "    \"gamma\": 0.008\n",
    "}\n",
    "\n",
    "model = krr_model_builder(params, model_dir)\n",
    "\n",
    "print(\"training KRR model\")\n",
    "model.fit(train_dataset, nb_epochs=50)\n",
    "\n",
    "print(\"evaluating KRR model on {train,valid,test} sets\")\n",
    "train_evaluator = dc.utils.evaluate.Evaluator(model, train_dataset, transformers)\n",
    "train_scores = train_evaluator.compute_model_performance(metric)\n",
    "print(\"train scores:\")\n",
    "print(train_scores)\n",
    "\n",
    "valid_evaluator = dc.utils.evaluate.Evaluator(model, valid_dataset, transformers)\n",
    "valid_scores = valid_evaluator.compute_model_performance(metric)\n",
    "print(\"valid scores:\")\n",
    "print(valid_scores)\n",
    "\n",
    "test_evaluator = dc.utils.evaluate.Evaluator(model, test_dataset, transformers)\n",
    "test_scores = test_evaluator.compute_model_performance(metric)\n",
    "print(\"test scores:\")\n",
    "print(test_scores)"
   ]
  },
  {
   "cell_type": "markdown",
   "metadata": {},
   "source": [
    "**Deep Tensor Neural Network**  \n",
    "[reference example](https://github.com/deepchem/deepchem/blob/master/examples/qm8/qm8_DTNN.py)"
   ]
  },
  {
   "cell_type": "code",
   "execution_count": null,
   "metadata": {},
   "outputs": [],
   "source": [
    "qm8_tasks, qm8_datasets, transformers = dc.molnet.load_qm8_from_mat(\n",
    "    featurizer='Raw', split='stratified')\n",
    "train_dataset, valid_dataset, test_dataset = qm8_datasets"
   ]
  },
  {
   "cell_type": "code",
   "execution_count": null,
   "metadata": {},
   "outputs": [],
   "source": [
    "def dtnn_model_builder(model_params, model_dir):\n",
    "    return dc.models.DTNNModel(output_activation=False,\n",
    "                               use_queue=False,\n",
    "                               mode=\"regression\", \n",
    "                               model_dir=model_dir,\n",
    "                               **model_params)"
   ]
  },
  {
   "cell_type": "code",
   "execution_count": null,
   "metadata": {},
   "outputs": [],
   "source": [
    "metric = [\n",
    "    dc.metrics.Metric(dc.metric.pearson_r2_score, mode=\"regression\")\n",
    "]\n",
    "\n",
    "params = {\n",
    "    \"n_tasks\": len(qm8_tasks),\n",
    "    \"n_embedding\": 20,\n",
    "    \"n_hidden\": 15,\n",
    "    \"n_distance\": 51,\n",
    "    \"distance_min\": -1.0,\n",
    "    \"distance_max\": 9.2,\n",
    "    \"batch_size\": 50,\n",
    "    \"learning_rate\": 0.0001\n",
    "}\n",
    "\n",
    "model = dtnn_model_builder(params, model_dir)\n",
    "\n",
    "print(\"training DTNN model\")\n",
    "model.fit(train_dataset, nb_epoch=50)\n",
    "\n",
    "print(\"evaluating DTNN model on {train,valid,test} sets\")\n",
    "train_scores = model.evaluate(train_dataset, metric, transformers)\n",
    "print(\"train scores:\")\n",
    "print(train_scores)\n",
    "\n",
    "valid_scores = model.evaluate(valid_dataset, metric, transformers)\n",
    "print(\"valid scores:\")\n",
    "print(valid_scores)\n",
    "\n",
    "test_scores = model.evaluate(test_dataset, metric, transformers)\n",
    "print(\"test scores:\")\n",
    "print(test_scores)"
   ]
  },
  {
   "cell_type": "markdown",
   "metadata": {},
   "source": [
    "**Message Passing Neural Network**  \n",
    "[reference example](https://github.com/deepchem/deepchem/blob/master/examples/qm8/qm8_MPNN.py)"
   ]
  },
  {
   "cell_type": "code",
   "execution_count": null,
   "metadata": {},
   "outputs": [],
   "source": [
    "qm8_tasks, qm8_datasets, transformers = dc.molnet.load_qm8_from_mat(\n",
    "    featurizer='MP', split='stratified')\n",
    "train_dataset, valid_dataset, test_dataset = qm8_datasets"
   ]
  },
  {
   "cell_type": "code",
   "execution_count": null,
   "metadata": {},
   "outputs": [],
   "source": [
    "from dc.models import MPNNModel\n",
    "\n",
    "def mpnn_model_builder(model_params, model_dir):\n",
    "    return MPNNModel(use_queue=False,\n",
    "                     mode=\"regression\",\n",
    "                     model_dir=model_dir,\n",
    "                     **model_params)"
   ]
  },
  {
   "cell_type": "code",
   "execution_count": null,
   "metadata": {},
   "outputs": [],
   "source": [
    "metric = [\n",
    "    dc.metrics.Metric(dc.metrics.pearson_r2_score, mode=\"regression\")\n",
    "]\n",
    "\n",
    "params = {\n",
    "    \"n_tasks\": len(qm9_tasks),\n",
    "    \"n_atom_feat\": 70,\n",
    "    \"n_pair_feat\": 8,\n",
    "    \"T\": 5,\n",
    "    \"M\": 10,\n",
    "    \"batch_size\": 32,\n",
    "    \"learning_reate\": 0.0001\n",
    "}\n",
    "\n",
    "model = mpnn_model_builder(params, model_dir=None)\n",
    "\n",
    "print(\"training MPNN model\")\n",
    "model.fit(train_dataset, nb_epochs=100)\n",
    "\n",
    "print(\"evaluating MPNN model on {train,valid,test} sets\")\n",
    "train_scores = model.evaluate(train_dataset, metric, transformers)\n",
    "print(\"train scores:\")\n",
    "print(train_scores)\n",
    "\n",
    "valid_scores = model.evaluate(valid_dataset, metric, transformers)\n",
    "print(\"valid scores:\")\n",
    "print(valid_scores)\n",
    "\n",
    "test_scores = model.evaluate(test_dataset, metric, transformers)\n",
    "print(\"test scores:\")\n",
    "print(test_scores)"
   ]
  }
 ],
 "metadata": {
  "kernelspec": {
   "display_name": "Python 3",
   "language": "python",
   "name": "python3"
  },
  "language_info": {
   "codemirror_mode": {
    "name": "ipython",
    "version": 3
   },
   "file_extension": ".py",
   "mimetype": "text/x-python",
   "name": "python",
   "nbconvert_exporter": "python",
   "pygments_lexer": "ipython3",
   "version": "3.6.4"
  }
 },
 "nbformat": 4,
 "nbformat_minor": 2
}
