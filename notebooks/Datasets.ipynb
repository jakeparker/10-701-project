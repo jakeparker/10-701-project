{
 "cells": [
  {
   "cell_type": "code",
   "execution_count": null,
   "metadata": {},
   "outputs": [],
   "source": [
    "from IPython.core.display import display, HTML\n",
    "display(HTML(\"<style>.container { width:100% !important; }</style>\"))"
   ]
  },
  {
   "cell_type": "code",
   "execution_count": null,
   "metadata": {},
   "outputs": [],
   "source": [
    "import numpy as np\n",
    "import tensorflow as tf\n",
    "import deepchem as dc"
   ]
  },
  {
   "cell_type": "markdown",
   "metadata": {},
   "source": [
    "## Datasets"
   ]
  },
  {
   "cell_type": "code",
   "execution_count": null,
   "metadata": {},
   "outputs": [],
   "source": [
    "import pathlib\n",
    "\n",
    "def dataset(filename, sub_dir=None):\n",
    "    data_dir = pathlib.Path('.', 'data')\n",
    "    if (sub_dir != None):\n",
    "        sub_dir = pathlib.Path(sub_dir)\n",
    "        filepath = data_dir / sub_dir / pathlib.Path(filename)\n",
    "    else:\n",
    "        filepath = data_dir / pathlib.Path(filename)\n",
    "    return filepath"
   ]
  },
  {
   "cell_type": "code",
   "execution_count": null,
   "metadata": {},
   "outputs": [],
   "source": [
    "datasets = dict()\n",
    "\n",
    "datasets[\"esol\"] = dataset(\"ESOL.csv\")\n",
    "datasets[\"freesolv\"] = dataset(\"FreeSolv.csv\")\n",
    "\n",
    "datasets[\"qm7\"] = dataset(\"qm7.mat\")\n",
    "\n",
    "datasets[\"qm7b\"] = dataset(\"qm7b.mat\")\n",
    "\n",
    "datasets[\"qm8\"] = dict()\n",
    "datasets[\"qm8\"][\"sdf\"] = dataset(\"qm8.sdf\", sub_dir=\"qm8\")\n",
    "datasets[\"qm8\"][\"csv\"] = dataset(\"qm8.sdf.csv\", sub_dir=\"qm8\")\n",
    "\n",
    "datasets[\"qm9\"] = dict()\n",
    "datasets[\"qm9\"][\"sdf\"] = dataset(\"gdb9.sdf\", sub_dir=\"qm9\")\n",
    "datasets[\"qm9\"][\"csv\"] = dataset(\"gdb9.sdf.csv\", sub_dir=\"qm9\")"
   ]
  },
  {
   "cell_type": "code",
   "execution_count": null,
   "metadata": {},
   "outputs": [],
   "source": [
    "def load(filepath, featurizer=None):\n",
    "    suffix = filepath.suffix\n",
    "    if (suffix == \".csv\"):\n",
    "        data_loader = dc.data.data_loader.CSVLoader\n",
    "    elif (suffix == \".sdf\"):\n",
    "        data_loader = dc.data.data_loader.SDFLoader\n",
    "    elif (suffix == \".mat\"):\n",
    "        data_loader = dc.data.data_loader.d\n",
    "    else:\n",
    "        raise"
   ]
  }
 ],
 "metadata": {
  "kernelspec": {
   "display_name": "Python 3",
   "language": "python",
   "name": "python3"
  },
  "language_info": {
   "codemirror_mode": {
    "name": "ipython",
    "version": 3
   },
   "file_extension": ".py",
   "mimetype": "text/x-python",
   "name": "python",
   "nbconvert_exporter": "python",
   "pygments_lexer": "ipython3",
   "version": "3.6.4"
  }
 },
 "nbformat": 4,
 "nbformat_minor": 2
}
